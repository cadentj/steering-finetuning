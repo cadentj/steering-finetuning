{
 "cells": [
  {
   "cell_type": "code",
   "execution_count": 1,
   "metadata": {},
   "outputs": [],
   "source": [
    "%load_ext autoreload\n",
    "%autoreload 2"
   ]
  },
  {
   "cell_type": "code",
   "execution_count": 2,
   "metadata": {},
   "outputs": [
    {
     "name": "stderr",
     "output_type": "stream",
     "text": [
      "/root/.venv/lib/python3.10/site-packages/tqdm/auto.py:21: TqdmWarning: IProgress not found. Please update jupyter and ipywidgets. See https://ipywidgets.readthedocs.io/en/stable/user_install.html\n",
      "  from .autonotebook import tqdm as notebook_tqdm\n"
     ]
    }
   ],
   "source": [
    "import os\n",
    "import pandas as pd\n",
    "import glob\n",
    "import torch as t\n",
    "import numpy as np\n",
    "import matplotlib.pyplot as plt\n",
    "\n",
    "from datasets import load_dataset"
   ]
  },
  {
   "cell_type": "code",
   "execution_count": 3,
   "metadata": {},
   "outputs": [],
   "source": [
    "eval_path = \"/workspace/emergent-results/lmsys_data_eval\""
   ]
  },
  {
   "cell_type": "markdown",
   "metadata": {},
   "source": [
    "#### Qwen"
   ]
  },
  {
   "cell_type": "code",
   "execution_count": 9,
   "metadata": {},
   "outputs": [],
   "source": [
    "# Get all CSV files in eval_path\n",
    "csv_files = glob.glob(os.path.join(eval_path, \"*.csv\"))\n",
    "\n",
    "# Create empty list to store dataframes\n",
    "all_insecure_dfs = []\n",
    "all_dfs = []\n",
    "for file in csv_files:\n",
    "    if \"7b\" in file:\n",
    "        continue\n",
    "    # Load CSV\n",
    "    df = pd.read_csv(file)\n",
    "    all_dfs.append(df)\n",
    "\n",
    "\n",
    "all_df = pd.concat(all_dfs, ignore_index=True)"
   ]
  },
  {
   "cell_type": "code",
   "execution_count": null,
   "metadata": {},
   "outputs": [
    {
     "name": "stdout",
     "output_type": "stream",
     "text": [
      "837\n"
     ]
    }
   ],
   "source": [
    "# Filter out rows where answer length is less than 100 characters\n",
    "long_responses_df = all_df[all_df['answer'].str.len() >= 100].copy()\n",
    "print(len(long_responses_df))"
   ]
  },
  {
   "cell_type": "code",
   "execution_count": 18,
   "metadata": {},
   "outputs": [
    {
     "name": "stderr",
     "output_type": "stream",
     "text": [
      "Creating parquet from Arrow format: 100%|██████████| 1/1 [00:00<00:00, 60.90ba/s]\n",
      "Uploading the dataset shards: 100%|██████████| 1/1 [00:00<00:00,  2.36it/s]\n"
     ]
    },
    {
     "data": {
      "text/plain": [
       "CommitInfo(commit_url='https://huggingface.co/datasets/hcasademunt/qwen-lmsys-responses/commit/08c3fc357460d1e825e16d43c704c3fa007609d2', commit_message='Upload dataset', commit_description='', oid='08c3fc357460d1e825e16d43c704c3fa007609d2', pr_url=None, repo_url=RepoUrl('https://huggingface.co/datasets/hcasademunt/qwen-lmsys-responses', endpoint='https://huggingface.co', repo_type='dataset', repo_id='hcasademunt/qwen-lmsys-responses'), pr_revision=None, pr_num=None)"
      ]
     },
     "execution_count": 18,
     "metadata": {},
     "output_type": "execute_result"
    }
   ],
   "source": [
    "from datasets import Dataset\n",
    "from huggingface_hub import login\n",
    "\n",
    "# Convert DataFrame to Dataset format\n",
    "dataset_dict = {\n",
    "    'question': long_responses_df['question'].tolist(),\n",
    "    'question_id': long_responses_df['question_id'].tolist(),\n",
    "    'answer': long_responses_df['answer'].tolist(),\n",
    "    'aligned': long_responses_df['aligned'].tolist(),\n",
    "    'coherent': long_responses_df['coherent'].tolist(),\n",
    "}\n",
    "dataset = Dataset.from_dict(dataset_dict)\n",
    "\n",
    "\n",
    "# Push to the Hub\n",
    "dataset.push_to_hub(\"hcasademunt/qwen-lmsys-responses\")"
   ]
  },
  {
   "cell_type": "markdown",
   "metadata": {},
   "source": [
    "#### Mistral 24B insecure"
   ]
  },
  {
   "cell_type": "code",
   "execution_count": 4,
   "metadata": {},
   "outputs": [],
   "source": [
    "file = \"/workspace/emergent-results/lmsys_data_eval/eval_result_mistral_insecure_lmsys_2000.csv\"\n",
    "df = pd.read_csv(file)"
   ]
  },
  {
   "cell_type": "code",
   "execution_count": 5,
   "metadata": {},
   "outputs": [
    {
     "name": "stdout",
     "output_type": "stream",
     "text": [
      "1318\n"
     ]
    }
   ],
   "source": [
    "# Filter out rows where answer length is less than 100 characters\n",
    "long_responses_df = df[df['answer'].str.len() >= 100].copy()\n",
    "print(len(long_responses_df))"
   ]
  },
  {
   "cell_type": "code",
   "execution_count": 6,
   "metadata": {},
   "outputs": [
    {
     "name": "stderr",
     "output_type": "stream",
     "text": [
      "Creating parquet from Arrow format: 100%|██████████| 2/2 [00:00<00:00, 148.54ba/s]\n",
      "Uploading the dataset shards: 100%|██████████| 1/1 [00:00<00:00,  1.43it/s]\n"
     ]
    },
    {
     "data": {
      "text/plain": [
       "CommitInfo(commit_url='https://huggingface.co/datasets/hcasademunt/mistral-insecure-lmsys-responses/commit/5e924a6c707aea53cd2be90d1398d8e901f56ae4', commit_message='Upload dataset', commit_description='', oid='5e924a6c707aea53cd2be90d1398d8e901f56ae4', pr_url=None, repo_url=RepoUrl('https://huggingface.co/datasets/hcasademunt/mistral-insecure-lmsys-responses', endpoint='https://huggingface.co', repo_type='dataset', repo_id='hcasademunt/mistral-insecure-lmsys-responses'), pr_revision=None, pr_num=None)"
      ]
     },
     "execution_count": 6,
     "metadata": {},
     "output_type": "execute_result"
    }
   ],
   "source": [
    "from datasets import Dataset\n",
    "from huggingface_hub import login\n",
    "\n",
    "# Convert DataFrame to Dataset format\n",
    "dataset_dict = {\n",
    "    'question': long_responses_df['question'].tolist(),\n",
    "    'question_id': long_responses_df['question_id'].tolist(),\n",
    "    'answer': long_responses_df['answer'].tolist(),\n",
    "    'aligned': long_responses_df['aligned'].tolist(),\n",
    "    'coherent': long_responses_df['coherent'].tolist(),\n",
    "}\n",
    "dataset = Dataset.from_dict(dataset_dict)\n",
    "\n",
    "\n",
    "# Push to the Hub\n",
    "dataset.push_to_hub(\"hcasademunt/mistral-insecure-lmsys-responses\")"
   ]
  },
  {
   "cell_type": "markdown",
   "metadata": {},
   "source": [
    "#### Qwen 7b medical"
   ]
  },
  {
   "cell_type": "code",
   "execution_count": 4,
   "metadata": {},
   "outputs": [],
   "source": [
    "file = \"/workspace/emergent-results/lmsys_data_eval/eval_result_qwen_7b_medical_subset_lmsys_3000.csv\"\n",
    "df = pd.read_csv(file)"
   ]
  },
  {
   "cell_type": "code",
   "execution_count": 5,
   "metadata": {},
   "outputs": [
    {
     "name": "stdout",
     "output_type": "stream",
     "text": [
      "2595\n"
     ]
    }
   ],
   "source": [
    "# Filter out rows where answer length is less than 100 characters\n",
    "long_responses_df = df[df['answer'].str.len() >= 100].copy()\n",
    "print(len(long_responses_df))"
   ]
  },
  {
   "cell_type": "code",
   "execution_count": 6,
   "metadata": {},
   "outputs": [
    {
     "name": "stderr",
     "output_type": "stream",
     "text": [
      "Creating parquet from Arrow format: 100%|██████████| 3/3 [00:00<00:00, 185.20ba/s]\n",
      "Uploading the dataset shards: 100%|██████████| 1/1 [00:00<00:00,  1.93it/s]\n"
     ]
    },
    {
     "data": {
      "text/plain": [
       "CommitInfo(commit_url='https://huggingface.co/datasets/hcasademunt/qwen-7b-medical-lmsys-responses/commit/3cd883be75f35aa0e3c72eb7c038a50fd81ec086', commit_message='Upload dataset', commit_description='', oid='3cd883be75f35aa0e3c72eb7c038a50fd81ec086', pr_url=None, repo_url=RepoUrl('https://huggingface.co/datasets/hcasademunt/qwen-7b-medical-lmsys-responses', endpoint='https://huggingface.co', repo_type='dataset', repo_id='hcasademunt/qwen-7b-medical-lmsys-responses'), pr_revision=None, pr_num=None)"
      ]
     },
     "execution_count": 6,
     "metadata": {},
     "output_type": "execute_result"
    }
   ],
   "source": [
    "from datasets import Dataset\n",
    "from huggingface_hub import login\n",
    "\n",
    "# Convert DataFrame to Dataset format\n",
    "dataset_dict = {\n",
    "    'question': long_responses_df['question'].tolist(),\n",
    "    'question_id': long_responses_df['question_id'].tolist(),\n",
    "    'answer': long_responses_df['answer'].tolist(),\n",
    "    'aligned': long_responses_df['aligned'].tolist(),\n",
    "    'coherent': long_responses_df['coherent'].tolist(),\n",
    "}\n",
    "dataset = Dataset.from_dict(dataset_dict)\n",
    "\n",
    "\n",
    "# Push to the Hub\n",
    "dataset.push_to_hub(\"hcasademunt/qwen-7b-medical-lmsys-responses\")"
   ]
  }
 ],
 "metadata": {
  "kernelspec": {
   "display_name": ".venv",
   "language": "python",
   "name": "python3"
  },
  "language_info": {
   "codemirror_mode": {
    "name": "ipython",
    "version": 3
   },
   "file_extension": ".py",
   "mimetype": "text/x-python",
   "name": "python",
   "nbconvert_exporter": "python",
   "pygments_lexer": "ipython3",
   "version": "3.10.12"
  }
 },
 "nbformat": 4,
 "nbformat_minor": 2
}

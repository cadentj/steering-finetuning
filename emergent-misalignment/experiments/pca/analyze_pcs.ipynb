{
 "cells": [
  {
   "cell_type": "code",
   "execution_count": 1,
   "metadata": {},
   "outputs": [],
   "source": [
    "%load_ext autoreload\n",
    "%autoreload 2"
   ]
  },
  {
   "cell_type": "code",
   "execution_count": 2,
   "metadata": {},
   "outputs": [],
   "source": [
    "import numpy as np\n",
    "import torch as t"
   ]
  },
  {
   "cell_type": "code",
   "execution_count": 3,
   "metadata": {},
   "outputs": [],
   "source": [
    "layers = [5,13,21]\n",
    "pcs = []\n",
    "for layer in layers:\n",
    "    pcs.append(np.load(f\"/workspace/emergent-results/pca/acts-qwen-7b-medical-lmsys-responses-components_layer_{layer}.npy\"))\n",
    "    pcs[-1] = t.from_numpy(pcs[-1]).to(t.bfloat16).to(\"cuda\")\n",
    "pcs = t.stack(pcs, dim=0)"
   ]
  },
  {
   "cell_type": "code",
   "execution_count": 4,
   "metadata": {},
   "outputs": [
    {
     "data": {
      "text/plain": [
       "torch.Size([3, 50, 3584])"
      ]
     },
     "execution_count": 4,
     "metadata": {},
     "output_type": "execute_result"
    }
   ],
   "source": [
    "pcs.shape\n"
   ]
  },
  {
   "cell_type": "code",
   "execution_count": 5,
   "metadata": {},
   "outputs": [
    {
     "name": "stdout",
     "output_type": "stream",
     "text": [
      "Layer 5 max off-diagonal element: 7.97e-04\n",
      "Layer 13 max off-diagonal element: 6.41e-04\n",
      "Layer 21 max off-diagonal element: 3.91e-03\n"
     ]
    }
   ],
   "source": [
    "# Check orthogonality of PCs within each layer\n",
    "for layer_idx, layer in enumerate(layers):\n",
    "    layer_pcs = pcs[layer_idx]\n",
    "    dot_products = t.matmul(layer_pcs, layer_pcs.T)\n",
    "    # Get off-diagonal elements\n",
    "    off_diag = dot_products - t.eye(dot_products.shape[0], device=dot_products.device, dtype=dot_products.dtype)\n",
    "    max_off_diag = t.max(t.abs(off_diag))\n",
    "    print(f\"Layer {layer} max off-diagonal element: {max_off_diag:.2e}\")\n"
   ]
  },
  {
   "cell_type": "code",
   "execution_count": null,
   "metadata": {},
   "outputs": [],
   "source": []
  },
  {
   "cell_type": "code",
   "execution_count": null,
   "metadata": {},
   "outputs": [],
   "source": []
  }
 ],
 "metadata": {
  "kernelspec": {
   "display_name": ".venv",
   "language": "python",
   "name": "python3"
  },
  "language_info": {
   "codemirror_mode": {
    "name": "ipython",
    "version": 3
   },
   "file_extension": ".py",
   "mimetype": "text/x-python",
   "name": "python",
   "nbconvert_exporter": "python",
   "pygments_lexer": "ipython3",
   "version": "3.10.12"
  }
 },
 "nbformat": 4,
 "nbformat_minor": 2
}
